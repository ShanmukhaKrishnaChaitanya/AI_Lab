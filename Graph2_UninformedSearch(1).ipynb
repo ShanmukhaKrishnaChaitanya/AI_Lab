{
 "cells": [
  {
   "cell_type": "code",
   "execution_count": 31,
   "id": "c81bfc5c-c95f-4fa4-bbf7-d44b753df14e",
   "metadata": {},
   "outputs": [
    {
     "name": "stdout",
     "output_type": "stream",
     "text": [
      "Shortest Path: 0 -> 1 -> 3\n",
      "Shortest Distance: 7\n"
     ]
    }
   ],
   "source": [
    "#Shortest Path\n",
    "\n",
    "graph = {\n",
    "    0: [(1, 5), (2, 8)],\n",
    "    1: [(0, 5), (2, 9), (3,2)],\n",
    "    2: [(0, 8), (1, 9), (3, 6)],\n",
    "    3: [(1, 2), (2, 6)]\n",
    "}\n",
    "\n",
    "source = 0\n",
    "target = 3\n",
    "\n",
    "def dijkstra(graph, start, goal):\n",
    "    shortest_distances = {node: float('inf') for node in graph}\n",
    "    shortest_distances[start] = 0\n",
    "    visited = set()\n",
    "    parent = {start: None}\n",
    "    while len(visited) < len(graph):\n",
    "        min_node = None\n",
    "        min_distance = float('inf')\n",
    "        for node in graph:\n",
    "            if node not in visited and shortest_distances[node] < min_distance:\n",
    "                min_distance = shortest_distances[node]\n",
    "                min_node = node\n",
    "        if min_node is None:\n",
    "            break\n",
    "        visited.add(min_node)\n",
    "        for neighbor, weight in graph[min_node]:\n",
    "            new_distance = shortest_distances[min_node] + weight\n",
    "            if new_distance < shortest_distances[neighbor]:\n",
    "                shortest_distances[neighbor] = new_distance\n",
    "                parent[neighbor] = min_node\n",
    "    path = []\n",
    "    node = goal\n",
    "    while node is not None:\n",
    "        path.append(node)\n",
    "        node = parent.get(node)\n",
    "    path.reverse()\n",
    "    return path, shortest_distances[goal] if goal in shortest_distances else float('inf')\n",
    "\n",
    "shortest_path, shortest_distance = dijkstra(graph, source, target)\n",
    "if shortest_distance != float('inf'):\n",
    "    print(\"Shortest Path:\", \" -> \".join(map(str, shortest_path)))\n",
    "    print(\"Shortest Distance:\", shortest_distance)\n",
    "else:\n",
    "    print(\"No path found\")\n"
   ]
  },
  {
   "cell_type": "code",
   "execution_count": 13,
   "id": "2f845f97-dd17-4fc1-87d4-6a823cd1b392",
   "metadata": {},
   "outputs": [
    {
     "name": "stdout",
     "output_type": "stream",
     "text": [
      "Goal Reached\n"
     ]
    }
   ],
   "source": [
    "#Implementation of BFS\n",
    "\n",
    "graph = {\n",
    "    0: [(1, 5), (2, 8)],\n",
    "    1: [(0, 5), (2, 9), (3,2)],\n",
    "    2: [(0, 8), (1, 9), (3, 6)],\n",
    "    3: [(1, 2), (2, 6)]\n",
    "}\n",
    "\n",
    "source = 0\n",
    "target = 3\n",
    "\n",
    "def bfs(graph, start, goal):\n",
    "    queue = [start]\n",
    "    visited = set()\n",
    "    visited.add(start)\n",
    "    while len(queue) > 0:\n",
    "        current = queue.pop(0)\n",
    "        if current == goal:\n",
    "            print(\"Goal Reached\")\n",
    "            return\n",
    "        for neighbor, _ in graph[current]:\n",
    "            if neighbor not in visited:\n",
    "                visited.add(neighbor)\n",
    "                queue.append(neighbor)\n",
    "    print(\"Goal Not Reached\")\n",
    "\n",
    "bfs(graph, source, target)\n"
   ]
  },
  {
   "cell_type": "code",
   "execution_count": 17,
   "id": "41f1539d-0622-4e5d-9299-cba2fcd27e54",
   "metadata": {},
   "outputs": [
    {
     "name": "stdout",
     "output_type": "stream",
     "text": [
      "Goal Reached\n"
     ]
    }
   ],
   "source": [
    "#Implementation of DFS\n",
    "\n",
    "graph = {\n",
    "    0: [(1, 5), (2, 8)],\n",
    "    1: [(0, 5), (2, 9), (3,2)],\n",
    "    2: [(0, 8), (1, 9), (3, 6)],\n",
    "    3: [(1, 2), (2, 6)]\n",
    "}\n",
    "\n",
    "source = 1\n",
    "target = 3\n",
    "\n",
    "def dfs(graph, start, goal):\n",
    "    stack = [start]\n",
    "    visited = set()\n",
    "    visited.add(start)\n",
    "    while len(stack) > 0:\n",
    "        current = stack.pop()\n",
    "        if current == goal:\n",
    "            print(\"Goal Reached\")\n",
    "            return\n",
    "        for neighbor, _ in graph[current]:\n",
    "            if neighbor not in visited:\n",
    "                visited.add(neighbor)\n",
    "                stack.append(neighbor)\n",
    "    print(\"Goal Not Reached\")\n",
    "\n",
    "dfs(graph, source, target)\n"
   ]
  },
  {
   "cell_type": "code",
   "execution_count": 21,
   "id": "ed46d523-1859-41bf-88ec-c91f14471882",
   "metadata": {},
   "outputs": [
    {
     "name": "stdout",
     "output_type": "stream",
     "text": [
      "Cycle Detected\n"
     ]
    }
   ],
   "source": [
    "#Detecting a Cycle\n",
    "\n",
    "graph = {\n",
    "    0: [1, 2],\n",
    "    1: [0, 2, 3],\n",
    "    2: [0, 1, 3],\n",
    "    3: [1, 2]\n",
    "}\n",
    "\n",
    "def dfs_cycle(graph, node, visited, parent):\n",
    "    visited.add(node)\n",
    "    for neighbor in graph[node]:\n",
    "        if neighbor not in visited:  \n",
    "            if dfs_cycle(graph, neighbor, visited, node):\n",
    "                return True  \n",
    "        elif neighbor != parent:\n",
    "            return True  \n",
    "    return False \n",
    "\n",
    "def has_cycle(graph):\n",
    "    visited = set()\n",
    "    for node in graph:  \n",
    "        if node not in visited:\n",
    "            if dfs_cycle(graph, node, visited, -1):\n",
    "                return True  \n",
    "    return False\n",
    "    \n",
    "if has_cycle(graph):\n",
    "    print(\"Cycle Detected\")\n",
    "else:\n",
    "    print(\"No Cycle Detected\")\n"
   ]
  },
  {
   "cell_type": "code",
   "execution_count": 29,
   "id": "e508ec9a-d707-4211-87ed-4010f86523de",
   "metadata": {},
   "outputs": [
    {
     "name": "stdout",
     "output_type": "stream",
     "text": [
      "Node Coloring:\n",
      "Node 0 -> Color 1\n",
      "Node 1 -> Color 2\n",
      "Node 2 -> Color 3\n",
      "Node 3 -> Color 1\n"
     ]
    }
   ],
   "source": [
    "#Coloring\n",
    "\n",
    "graph = {\n",
    "    0: [1, 2],\n",
    "    1: [0, 2, 3],\n",
    "    2: [0, 1, 3],\n",
    "    3: [1, 2]\n",
    "}\n",
    "\n",
    "max_colors = 3\n",
    "\n",
    "def graph_coloring(graph, max_colors):\n",
    "    colors = {}\n",
    "    for node in graph:\n",
    "        used_colors = {colors[neighbor] for neighbor in graph[node] if neighbor in colors}\n",
    "        for color in range(1, max_colors + 1):\n",
    "            if color not in used_colors:\n",
    "                colors[node] = color\n",
    "                break\n",
    "        else:\n",
    "            return \"Graph cannot be colored with 3 colors.\"\n",
    "    return colors \n",
    "\n",
    "color_assignment = graph_coloring(graph, max_colors)\n",
    "\n",
    "if isinstance(color_assignment, dict):\n",
    "    print(\"Node Coloring:\")\n",
    "    for node, color in color_assignment.items():\n",
    "        print(f\"Node {node} -> Color {color}\")\n",
    "else:\n",
    "    print(color_assignment)"
   ]
  }
 ],
 "metadata": {
  "kernelspec": {
   "display_name": "Python 3 (ipykernel)",
   "language": "python",
   "name": "python3"
  },
  "language_info": {
   "codemirror_mode": {
    "name": "ipython",
    "version": 3
   },
   "file_extension": ".py",
   "mimetype": "text/x-python",
   "name": "python",
   "nbconvert_exporter": "python",
   "pygments_lexer": "ipython3",
   "version": "3.12.4"
  }
 },
 "nbformat": 4,
 "nbformat_minor": 5
}
