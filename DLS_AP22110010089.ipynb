{
 "cells": [
  {
   "cell_type": "code",
   "execution_count": 27,
   "id": "0c397e87-24cf-4a89-b8da-164679075ab1",
   "metadata": {},
   "outputs": [
    {
     "name": "stdout",
     "output_type": "stream",
     "text": [
      "Path: 0\n",
      "Path: 0 -> 4\n",
      "Path: 0 -> 3\n",
      "Path: 0 -> 3 -> 2\n",
      "Path: 0 -> 1\n"
     ]
    }
   ],
   "source": [
    "def search(node, depth_limit, depth=0, path=None):\n",
    "    if path is None:\n",
    "        path = []\n",
    "    path.append(node)\n",
    "    print(f\"Path: {' -> '.join(path)}\")\n",
    "    if depth >= depth_limit:\n",
    "        path.pop()  \n",
    "        return\n",
    "    for neighbor in graph.get(node, []):\n",
    "        search(neighbor, depth_limit, depth + 1, path)\n",
    "    path.pop()  \n",
    "\n",
    "graph = {\n",
    "    '0': ['4', '3' , '1'],\n",
    "    '1': [],\n",
    "    '2': [],\n",
    "    '3': ['2'],\n",
    "    '4': []\n",
    "}\n",
    "\n",
    "start_node = '0'\n",
    "limit = 2\n",
    "\n",
    "search(start_node, limit)"
   ]
  }
 ],
 "metadata": {
  "kernelspec": {
   "display_name": "Python 3 (ipykernel)",
   "language": "python",
   "name": "python3"
  },
  "language_info": {
   "codemirror_mode": {
    "name": "ipython",
    "version": 3
   },
   "file_extension": ".py",
   "mimetype": "text/x-python",
   "name": "python",
   "nbconvert_exporter": "python",
   "pygments_lexer": "ipython3",
   "version": "3.12.4"
  }
 },
 "nbformat": 4,
 "nbformat_minor": 5
}
