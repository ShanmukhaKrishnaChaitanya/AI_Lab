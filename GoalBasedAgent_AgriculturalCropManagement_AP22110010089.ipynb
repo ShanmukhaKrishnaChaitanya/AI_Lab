{
 "cells": [
  {
   "cell_type": "code",
   "execution_count": null,
   "id": "ce98883f-2708-4bc8-902d-4ac23456877a",
   "metadata": {},
   "outputs": [],
   "source": [
    "\"\"\"\n",
    "12. Agricultural Crop Management Question: Build a goal-based agent to manage agricultural crops.\n",
    "The agent's goal is to optimize crop yields by monitoring weather conditions, soil moisture, and pest\n",
    "presence to make informed irrigation and pesticide application decisions.\n",
    "\"\"\""
   ]
  },
  {
   "cell_type": "code",
   "execution_count": 27,
   "id": "3ab26c42-5165-4661-a4ce-c840cfc968bd",
   "metadata": {},
   "outputs": [
    {
     "name": "stdout",
     "output_type": "stream",
     "text": [
      "\n",
      "What would you like to do?\n",
      "1. Display field status\n",
      "2. Adjust irrigation\n",
      "3. Apply pesticide\n",
      "4. Update field conditions\n",
      "5. Exit\n"
     ]
    },
    {
     "name": "stdin",
     "output_type": "stream",
     "text": [
      "Enter your choice:  1\n"
     ]
    },
    {
     "name": "stdout",
     "output_type": "stream",
     "text": [
      "Current Crop Field Status:\n",
      "Field1: Soil Moisture = 30%, Pests = False, Irrigation = Off, Pesticide = Not Applied\n",
      "Field2: Soil Moisture = 50%, Pests = True, Irrigation = Off, Pesticide = Not Applied\n",
      "Field3: Soil Moisture = 70%, Pests = False, Irrigation = Off, Pesticide = Not Applied\n",
      "\n",
      "What would you like to do?\n",
      "1. Display field status\n",
      "2. Adjust irrigation\n",
      "3. Apply pesticide\n",
      "4. Update field conditions\n",
      "5. Exit\n"
     ]
    },
    {
     "name": "stdin",
     "output_type": "stream",
     "text": [
      "Enter your choice:  2\n"
     ]
    },
    {
     "name": "stdout",
     "output_type": "stream",
     "text": [
      "Irrigation adjusted based on soil moisture levels.\n",
      "\n",
      "What would you like to do?\n",
      "1. Display field status\n",
      "2. Adjust irrigation\n",
      "3. Apply pesticide\n",
      "4. Update field conditions\n",
      "5. Exit\n"
     ]
    },
    {
     "name": "stdin",
     "output_type": "stream",
     "text": [
      "Enter your choice:  1\n"
     ]
    },
    {
     "name": "stdout",
     "output_type": "stream",
     "text": [
      "Current Crop Field Status:\n",
      "Field1: Soil Moisture = 30%, Pests = False, Irrigation = On, Pesticide = Not Applied\n",
      "Field2: Soil Moisture = 50%, Pests = True, Irrigation = Off, Pesticide = Not Applied\n",
      "Field3: Soil Moisture = 70%, Pests = False, Irrigation = Off, Pesticide = Not Applied\n",
      "\n",
      "What would you like to do?\n",
      "1. Display field status\n",
      "2. Adjust irrigation\n",
      "3. Apply pesticide\n",
      "4. Update field conditions\n",
      "5. Exit\n"
     ]
    },
    {
     "name": "stdin",
     "output_type": "stream",
     "text": [
      "Enter your choice:  3\n"
     ]
    },
    {
     "name": "stdout",
     "output_type": "stream",
     "text": [
      "Pesticide applied where pests were detected.\n",
      "\n",
      "What would you like to do?\n",
      "1. Display field status\n",
      "2. Adjust irrigation\n",
      "3. Apply pesticide\n",
      "4. Update field conditions\n",
      "5. Exit\n"
     ]
    },
    {
     "name": "stdin",
     "output_type": "stream",
     "text": [
      "Enter your choice:  1\n"
     ]
    },
    {
     "name": "stdout",
     "output_type": "stream",
     "text": [
      "Current Crop Field Status:\n",
      "Field1: Soil Moisture = 30%, Pests = False, Irrigation = On, Pesticide = Not Applied\n",
      "Field2: Soil Moisture = 50%, Pests = True, Irrigation = Off, Pesticide = Applied\n",
      "Field3: Soil Moisture = 70%, Pests = False, Irrigation = Off, Pesticide = Not Applied\n",
      "\n",
      "What would you like to do?\n",
      "1. Display field status\n",
      "2. Adjust irrigation\n",
      "3. Apply pesticide\n",
      "4. Update field conditions\n",
      "5. Exit\n"
     ]
    },
    {
     "name": "stdin",
     "output_type": "stream",
     "text": [
      "Enter your choice:  4\n",
      "Enter field name (Field1, Field2, Field3):  Field3\n",
      "Enter new soil moisture percentage:  35\n",
      "Are there pests? (yes/no):  yes\n"
     ]
    },
    {
     "name": "stdout",
     "output_type": "stream",
     "text": [
      "Conditions updated for Field3: Soil Moisture = 35%, Pests = True.\n",
      "\n",
      "What would you like to do?\n",
      "1. Display field status\n",
      "2. Adjust irrigation\n",
      "3. Apply pesticide\n",
      "4. Update field conditions\n",
      "5. Exit\n"
     ]
    },
    {
     "name": "stdin",
     "output_type": "stream",
     "text": [
      "Enter your choice:  2\n"
     ]
    },
    {
     "name": "stdout",
     "output_type": "stream",
     "text": [
      "Irrigation adjusted based on soil moisture levels.\n",
      "\n",
      "What would you like to do?\n",
      "1. Display field status\n",
      "2. Adjust irrigation\n",
      "3. Apply pesticide\n",
      "4. Update field conditions\n",
      "5. Exit\n"
     ]
    },
    {
     "name": "stdin",
     "output_type": "stream",
     "text": [
      "Enter your choice:  3\n"
     ]
    },
    {
     "name": "stdout",
     "output_type": "stream",
     "text": [
      "Pesticide applied where pests were detected.\n",
      "\n",
      "What would you like to do?\n",
      "1. Display field status\n",
      "2. Adjust irrigation\n",
      "3. Apply pesticide\n",
      "4. Update field conditions\n",
      "5. Exit\n"
     ]
    },
    {
     "name": "stdin",
     "output_type": "stream",
     "text": [
      "Enter your choice:  1\n"
     ]
    },
    {
     "name": "stdout",
     "output_type": "stream",
     "text": [
      "Current Crop Field Status:\n",
      "Field1: Soil Moisture = 30%, Pests = False, Irrigation = On, Pesticide = Not Applied\n",
      "Field2: Soil Moisture = 50%, Pests = True, Irrigation = Off, Pesticide = Applied\n",
      "Field3: Soil Moisture = 35%, Pests = True, Irrigation = On, Pesticide = Applied\n",
      "\n",
      "What would you like to do?\n",
      "1. Display field status\n",
      "2. Adjust irrigation\n",
      "3. Apply pesticide\n",
      "4. Update field conditions\n",
      "5. Exit\n"
     ]
    },
    {
     "name": "stdin",
     "output_type": "stream",
     "text": [
      "Enter your choice:  5\n"
     ]
    },
    {
     "name": "stdout",
     "output_type": "stream",
     "text": [
      "Exiting crop management system.\n"
     ]
    }
   ],
   "source": [
    "class CropAgent:\n",
    "    def __init__(self):\n",
    "        self.fields = {\n",
    "            'Field1': {'soil_moisture': 30, 'pests': False, 'irrigation': 'Off', 'pesticide': 'Not Applied'},\n",
    "            'Field2': {'soil_moisture': 50, 'pests': True, 'irrigation': 'Off', 'pesticide': 'Not Applied'},\n",
    "            'Field3': {'soil_moisture': 70, 'pests': False, 'irrigation': 'Off', 'pesticide': 'Not Applied'}\n",
    "        }\n",
    "    \n",
    "    def display(self):\n",
    "        print(\"Current Crop Field Status:\")\n",
    "        for field, data in self.fields.items():\n",
    "            print(f\"{field}: Soil Moisture = {data['soil_moisture']}%, Pests = {data['pests']}, \"\n",
    "                  f\"Irrigation = {data['irrigation']}, Pesticide = {data['pesticide']}\")\n",
    "    \n",
    "    def adjust(self):\n",
    "        for field, data in self.fields.items():\n",
    "            if data['soil_moisture'] < 40:\n",
    "                self.fields[field]['irrigation'] = 'On'\n",
    "            else:\n",
    "                self.fields[field]['irrigation'] = 'Off'\n",
    "        print(\"Irrigation adjusted based on soil moisture levels.\")\n",
    "    \n",
    "    def apply(self):\n",
    "        for field, data in self.fields.items():\n",
    "            if data['pests']:\n",
    "                self.fields[field]['pesticide'] = 'Applied'\n",
    "        print(\"Pesticide applied where pests were detected.\")\n",
    "    \n",
    "    def update(self, field, soil_moisture, pests):\n",
    "        if field in self.fields:\n",
    "            self.fields[field]['soil_moisture'] = soil_moisture\n",
    "            self.fields[field]['pests'] = pests\n",
    "            print(f\"Conditions updated for {field}: Soil Moisture = {soil_moisture}%, Pests = {pests}.\")\n",
    "        else:\n",
    "            print(\"Invalid field.\")\n",
    "\n",
    "agent = CropAgent()\n",
    "\n",
    "while True:\n",
    "    print(\"\\nWhat would you like to do?\")\n",
    "    print(\"1. Display field status\")\n",
    "    print(\"2. Adjust irrigation\")\n",
    "    print(\"3. Apply pesticide\")\n",
    "    print(\"4. Update field conditions\")\n",
    "    print(\"5. Exit\")\n",
    "    \n",
    "    choice = input(\"Enter your choice: \")\n",
    "    \n",
    "    if choice == '1':\n",
    "        agent.display()\n",
    "    elif choice == '2':\n",
    "        agent.adjust()\n",
    "    elif choice == '3':\n",
    "        agent.apply()\n",
    "    elif choice == '4':\n",
    "        field = input(\"Enter field name (Field1, Field2, Field3): \")\n",
    "        soil_moisture = int(input(\"Enter new soil moisture percentage: \"))\n",
    "        pests = input(\"Are there pests? (yes/no): \").strip().lower() == 'yes'\n",
    "        agent.update(field, soil_moisture, pests)\n",
    "    elif choice == '5':\n",
    "        print(\"Exiting crop management system.\")\n",
    "        break\n",
    "    else:\n",
    "        print(\"Invalid choice. Please select a valid option.\")\n"
   ]
  }
 ],
 "metadata": {
  "kernelspec": {
   "display_name": "Python 3 (ipykernel)",
   "language": "python",
   "name": "python3"
  },
  "language_info": {
   "codemirror_mode": {
    "name": "ipython",
    "version": 3
   },
   "file_extension": ".py",
   "mimetype": "text/x-python",
   "name": "python",
   "nbconvert_exporter": "python",
   "pygments_lexer": "ipython3",
   "version": "3.12.4"
  }
 },
 "nbformat": 4,
 "nbformat_minor": 5
}
