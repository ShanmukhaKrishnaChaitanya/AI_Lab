{
 "cells": [
  {
   "cell_type": "code",
   "execution_count": 1,
   "id": "252a62da-0e8d-4f0c-b7d4-9f3cbfe19dec",
   "metadata": {},
   "outputs": [
    {
     "name": "stdout",
     "output_type": "stream",
     "text": [
      "Best Solution (Schedule):  [0, 2, 2, 0, 0, 1]\n",
      "Best Fitness (Total Completion Time):  11\n"
     ]
    }
   ],
   "source": [
    "import random\n",
    "import numpy as np\n",
    "\n",
    "num_jobs = 6\n",
    "num_machines = 3\n",
    "processing_times = [2, 1, 7, 5, 4, 9]\n",
    "population_size = 10\n",
    "mutation_rate = 0.1\n",
    "num_generations = 50\n",
    "\n",
    "def initialize_population():\n",
    "    return [random.choices(range(num_machines), k=num_jobs) for _ in range(population_size)]\n",
    "\n",
    "def fitness(chromosome):\n",
    "    machine_loads = [0] * num_machines\n",
    "    for job, machine in enumerate(chromosome):\n",
    "        machine_loads[machine] += processing_times[job]\n",
    "    return max(machine_loads)\n",
    "\n",
    "def selection(population):\n",
    "    fitness_scores = [1 / fitness(chromo) for chromo in population]\n",
    "    total_fitness = sum(fitness_scores)\n",
    "    probabilities = [f / total_fitness for f in fitness_scores]\n",
    "    return population[np.random.choice(range(population_size), p=probabilities)]\n",
    "\n",
    "def crossover(parent1, parent2):\n",
    "    point1, point2 = sorted(random.sample(range(num_jobs), 2))\n",
    "    child1 = parent1[:point1] + parent2[point1:point2] + parent1[point2:]\n",
    "    child2 = parent2[:point1] + parent1[point1:point2] + parent2[point2:]\n",
    "    return child1, child2\n",
    "\n",
    "def mutate(chromosome):\n",
    "    if random.random() < mutation_rate:\n",
    "        idx = random.randint(0, num_jobs - 1)\n",
    "        chromosome[idx] = random.randint(0, num_machines - 1)\n",
    "    return chromosome\n",
    "\n",
    "def genetic_algorithm():\n",
    "    population = initialize_population()\n",
    "    best_chromosome = min(population, key=fitness)\n",
    "    for _ in range(num_generations):\n",
    "        new_population = []\n",
    "        for _ in range(population_size // 2):\n",
    "            parent1, parent2 = selection(population), selection(population)\n",
    "            child1, child2 = crossover(parent1, parent2)\n",
    "            new_population.extend([mutate(child1), mutate(child2)])\n",
    "        population = new_population\n",
    "        best_chromosome = min(population, key=fitness)\n",
    "    return best_chromosome, fitness(best_chromosome)\n",
    "\n",
    "best_schedule, best_fitness = genetic_algorithm()\n",
    "print(\"Best Solution (Schedule): \", best_schedule)\n",
    "print(\"Best Fitness (Total Completion Time): \", best_fitness)\n"
   ]
  }
 ],
 "metadata": {
  "kernelspec": {
   "display_name": "Python 3 (ipykernel)",
   "language": "python",
   "name": "python3"
  },
  "language_info": {
   "codemirror_mode": {
    "name": "ipython",
    "version": 3
   },
   "file_extension": ".py",
   "mimetype": "text/x-python",
   "name": "python",
   "nbconvert_exporter": "python",
   "pygments_lexer": "ipython3",
   "version": "3.12.4"
  }
 },
 "nbformat": 4,
 "nbformat_minor": 5
}
