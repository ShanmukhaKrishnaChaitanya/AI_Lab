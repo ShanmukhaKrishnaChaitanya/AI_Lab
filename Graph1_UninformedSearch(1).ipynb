{
 "cells": [
  {
   "cell_type": "code",
   "execution_count": 33,
   "id": "5cf961a5-33e5-4ba4-9f3b-c7ff1d9596c3",
   "metadata": {},
   "outputs": [
    {
     "name": "stdout",
     "output_type": "stream",
     "text": [
      "Shortest Path: 1 -> 3 -> 5 -> 6\n",
      "Shortest Distance: 8\n"
     ]
    }
   ],
   "source": [
    "#Shortest Path\n",
    "\n",
    "graph = {\n",
    "    1: [(2, 4), (3, 4)],\n",
    "    2: [(1, 4), (3, 2)],\n",
    "    3: [(1, 4), (2, 2), (4, 3), (5, 1), (6, 6)],\n",
    "    4: [(3, 3), (6, 2)],\n",
    "    5: [(3, 1), (6, 3)],\n",
    "    6: [(3, 6), (4, 2), (5, 3)]\n",
    "}\n",
    "\n",
    "source = 1\n",
    "target = 6\n",
    "\n",
    "def dijkstra(graph, start, goal):\n",
    "    shortest_distances = {node: float('inf') for node in graph}\n",
    "    shortest_distances[start] = 0\n",
    "    visited = set()\n",
    "    parent = {start: None}\n",
    "    while len(visited) < len(graph):\n",
    "        min_node = None\n",
    "        min_distance = float('inf')\n",
    "        for node in graph:\n",
    "            if node not in visited and shortest_distances[node] < min_distance:\n",
    "                min_distance = shortest_distances[node]\n",
    "                min_node = node\n",
    "        if min_node is None:\n",
    "            break\n",
    "        visited.add(min_node)\n",
    "        for neighbor, weight in graph[min_node]:\n",
    "            new_distance = shortest_distances[min_node] + weight\n",
    "            if new_distance < shortest_distances[neighbor]:\n",
    "                shortest_distances[neighbor] = new_distance\n",
    "                parent[neighbor] = min_node\n",
    "    path = []\n",
    "    node = goal\n",
    "    while node is not None:\n",
    "        path.append(node)\n",
    "        node = parent.get(node)\n",
    "    path.reverse()\n",
    "    return path, shortest_distances[goal] if goal in shortest_distances else float('inf')\n",
    "\n",
    "shortest_path, shortest_distance = dijkstra(graph, source, target)\n",
    "if shortest_distance != float('inf'):\n",
    "    print(\"Shortest Path:\", \" -> \".join(map(str, shortest_path)))\n",
    "    print(\"Shortest Distance:\", shortest_distance)\n",
    "else:\n",
    "    print(\"No path found\")\n"
   ]
  },
  {
   "cell_type": "code",
   "execution_count": 7,
   "id": "e7cda4cc-ec71-45e5-b947-f960fc3ed605",
   "metadata": {},
   "outputs": [
    {
     "name": "stdout",
     "output_type": "stream",
     "text": [
      "Goal Reached\n"
     ]
    }
   ],
   "source": [
    "#Implementation of BFS\n",
    "\n",
    "graph = {\n",
    "    1: [(3, 4), (2, 4)],\n",
    "    2: [(1, 4), (3, 2)],\n",
    "    3: [(1, 4), (2, 2), (4, 3), (5, 1), (6, 6)],\n",
    "    4: [(3, 3), (6, 2)],\n",
    "    5: [(3, 1), (6, 3)],\n",
    "    6: [(3, 6), (4, 2), (5, 3)]\n",
    "}\n",
    "\n",
    "source = 1\n",
    "target = 6\n",
    "\n",
    "def bfs(graph, start, goal):\n",
    "    queue = [start]\n",
    "    visited = set()\n",
    "    visited.add(start)\n",
    "    while len(queue) > 0:\n",
    "        current = queue.pop(0)\n",
    "        if current == goal:\n",
    "            print(\"Goal Reached\")\n",
    "            return\n",
    "        for neighbor, _ in graph[current]:\n",
    "            if neighbor not in visited:\n",
    "                visited.add(neighbor)\n",
    "                queue.append(neighbor)\n",
    "    print(\"Goal Not Reached\")\n",
    "\n",
    "bfs(graph, source, target)\n"
   ]
  },
  {
   "cell_type": "code",
   "execution_count": 9,
   "id": "b3cd4679-f3f7-4302-972e-8b3dcbd815ac",
   "metadata": {},
   "outputs": [
    {
     "name": "stdout",
     "output_type": "stream",
     "text": [
      "Goal Reached\n"
     ]
    }
   ],
   "source": [
    "#Implementation of DFS\n",
    "\n",
    "graph = {\n",
    "    1: [(3, 4), (2, 4)],\n",
    "    2: [(1, 4), (3, 2)],\n",
    "    3: [(1, 4), (2, 2), (4, 3), (5, 1), (6, 6)],\n",
    "    4: [(3, 3), (6, 2)],\n",
    "    5: [(3, 1), (6, 3)],\n",
    "    6: [(3, 6), (4, 2), (5, 3)]\n",
    "}\n",
    "\n",
    "source = 1\n",
    "target = 6\n",
    "\n",
    "def dfs(graph, start, goal):\n",
    "    stack = [start]\n",
    "    visited = set()\n",
    "    visited.add(start)\n",
    "    while len(stack) > 0:\n",
    "        current = stack.pop()\n",
    "        if current == goal:\n",
    "            print(\"Goal Reached\")\n",
    "            return\n",
    "        for neighbor, _ in graph[current]:\n",
    "            if neighbor not in visited:\n",
    "                visited.add(neighbor)\n",
    "                stack.append(neighbor)\n",
    "    print(\"Goal Not Reached\")\n",
    "\n",
    "dfs(graph, source, target)\n"
   ]
  },
  {
   "cell_type": "code",
   "execution_count": 17,
   "id": "96adc3ad-ffa6-49b3-aa05-43bbb249d488",
   "metadata": {},
   "outputs": [
    {
     "name": "stdout",
     "output_type": "stream",
     "text": [
      "Cycle Detected\n"
     ]
    }
   ],
   "source": [
    "#Detecting a Cycle\n",
    "\n",
    "graph = {\n",
    "    1: [2, 3],\n",
    "    2: [1, 3],\n",
    "    3: [1, 2, 4, 5, 6],\n",
    "    4: [3, 6],\n",
    "    5: [3, 6],\n",
    "    6: [3, 4, 5]\n",
    "}\n",
    "\n",
    "def dfs_cycle(graph, node, visited, parent):\n",
    "    visited.add(node)\n",
    "    for neighbor in graph[node]:\n",
    "        if neighbor not in visited:  \n",
    "            if dfs_cycle(graph, neighbor, visited, node):\n",
    "                return True  \n",
    "        elif neighbor != parent:\n",
    "            return True  \n",
    "    return False \n",
    "\n",
    "def has_cycle(graph):\n",
    "    visited = set()\n",
    "    for node in graph:  \n",
    "        if node not in visited:\n",
    "            if dfs_cycle(graph, node, visited, -1):\n",
    "                return True  \n",
    "    return False\n",
    "    \n",
    "if has_cycle(graph):\n",
    "    print(\"Cycle Detected\")\n",
    "else:\n",
    "    print(\"No Cycle Detected\")\n"
   ]
  },
  {
   "cell_type": "code",
   "execution_count": 31,
   "id": "e72bc64e-ef4d-47ad-a179-89bf59402d0f",
   "metadata": {},
   "outputs": [
    {
     "name": "stdout",
     "output_type": "stream",
     "text": [
      "Node Coloring:\n",
      "Node 1 -> Color 1\n",
      "Node 2 -> Color 2\n",
      "Node 3 -> Color 3\n",
      "Node 4 -> Color 1\n",
      "Node 5 -> Color 1\n",
      "Node 6 -> Color 2\n"
     ]
    }
   ],
   "source": [
    "#Coloring\n",
    "\n",
    "graph = {\n",
    "    1: [2, 3],\n",
    "    2: [1, 3],\n",
    "    3: [1, 2, 4, 5, 6],\n",
    "    4: [3, 6],\n",
    "    5: [3, 6],\n",
    "    6: [3, 4, 5]\n",
    "}\n",
    "\n",
    "max_colors = 3\n",
    "\n",
    "def graph_coloring(graph, max_colors):\n",
    "    colors = {}\n",
    "    for node in graph:\n",
    "        used_colors = {colors[neighbor] for neighbor in graph[node] if neighbor in colors}\n",
    "        for color in range(1, max_colors + 1):\n",
    "            if color not in used_colors:\n",
    "                colors[node] = color\n",
    "                break\n",
    "        else:\n",
    "            return \"Graph cannot be colored with 3 colors.\"\n",
    "    return colors \n",
    "\n",
    "color_assignment = graph_coloring(graph, max_colors)\n",
    "\n",
    "if isinstance(color_assignment, dict):\n",
    "    print(\"Node Coloring:\")\n",
    "    for node, color in color_assignment.items():\n",
    "        print(f\"Node {node} -> Color {color}\")\n",
    "else:\n",
    "    print(color_assignment)"
   ]
  }
 ],
 "metadata": {
  "kernelspec": {
   "display_name": "Python 3 (ipykernel)",
   "language": "python",
   "name": "python3"
  },
  "language_info": {
   "codemirror_mode": {
    "name": "ipython",
    "version": 3
   },
   "file_extension": ".py",
   "mimetype": "text/x-python",
   "name": "python",
   "nbconvert_exporter": "python",
   "pygments_lexer": "ipython3",
   "version": "3.12.4"
  }
 },
 "nbformat": 4,
 "nbformat_minor": 5
}
