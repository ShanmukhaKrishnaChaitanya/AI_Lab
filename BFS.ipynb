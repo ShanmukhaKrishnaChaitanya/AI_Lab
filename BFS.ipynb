{
 "cells": [
  {
   "cell_type": "code",
   "execution_count": 5,
   "id": "2f845f97-dd17-4fc1-87d4-6a823cd1b392",
   "metadata": {},
   "outputs": [
    {
     "name": "stdout",
     "output_type": "stream",
     "text": [
      "Goal Reached\n"
     ]
    }
   ],
   "source": [
    "#Implementation of BFS\n",
    "\n",
    "graph = {\n",
    "    1: [(3, 4), (2, 4)],\n",
    "    2: [(1, 4), (3, 2)],\n",
    "    3: [(1, 4), (2, 2), (4, 3), (5, 1), (6, 6)],\n",
    "    4: [(3, 3), (6, 2)],\n",
    "    5: [(3, 1), (6, 3)],\n",
    "    6: [(3, 6), (4, 2), (5, 3)]\n",
    "}\n",
    "\n",
    "source = 1\n",
    "target = 6\n",
    "\n",
    "def bfs(graph, start, goal):\n",
    "    queue = [start]\n",
    "    visited = set()\n",
    "    visited.add(start)\n",
    "    while len(queue) > 0:\n",
    "        current = queue.pop(0)\n",
    "        if current == goal:\n",
    "            print(\"Goal Reached\")\n",
    "            return\n",
    "        for neighbor, _ in graph[current]:\n",
    "            if neighbor not in visited:\n",
    "                visited.add(neighbor)\n",
    "                queue.append(neighbor)\n",
    "    print(\"Goal Not Reached\")\n",
    "\n",
    "bfs(graph, source, target)\n"
   ]
  }
 ],
 "metadata": {
  "kernelspec": {
   "display_name": "Python 3 (ipykernel)",
   "language": "python",
   "name": "python3"
  },
  "language_info": {
   "codemirror_mode": {
    "name": "ipython",
    "version": 3
   },
   "file_extension": ".py",
   "mimetype": "text/x-python",
   "name": "python",
   "nbconvert_exporter": "python",
   "pygments_lexer": "ipython3",
   "version": "3.12.4"
  }
 },
 "nbformat": 4,
 "nbformat_minor": 5
}
