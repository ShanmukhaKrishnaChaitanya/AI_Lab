{
 "cells": [
  {
   "cell_type": "code",
   "execution_count": 18,
   "id": "061c0d8b-dd76-44e4-9e1b-a4b7cdfa790e",
   "metadata": {},
   "outputs": [
    {
     "name": "stdout",
     "output_type": "stream",
     "text": [
      "Best Solution (Selected items): [1, 0, 0, 1, 0]\n",
      "Best Fitness (Total value): 210\n"
     ]
    }
   ],
   "source": [
    "import random\n",
    "\n",
    "knapsack_capacity = 60\n",
    "item_weights = [18, 26, 34, 42, 50]\n",
    "item_values = [60, 100, 120, 150, 200]\n",
    "population_size = 50\n",
    "generations = 100\n",
    "mutation_rate = 0.1\n",
    "\n",
    "def generate_chromosome():\n",
    "    return [random.choice([0, 1]) for _ in range(len(item_weights))]\n",
    "\n",
    "def initialize_population():\n",
    "    return [generate_chromosome() for _ in range(population_size)]\n",
    "\n",
    "def calculate_fitness(chromosome):\n",
    "    total_value = sum(c * v for c, v in zip(chromosome, item_values))\n",
    "    total_weight = sum(c * w for c, w in zip(chromosome, item_weights))\n",
    "    if total_weight > knapsack_capacity:\n",
    "        return 0\n",
    "    else:\n",
    "        return total_value\n",
    "\n",
    "def select_parents(population):\n",
    "    fitness_scores = [calculate_fitness(chromosome) for chromosome in population]\n",
    "    total_fitness = sum(fitness_scores)\n",
    "    parents = []\n",
    "    while len(parents) < population_size:\n",
    "        selected_index = random.choices(range(len(population)), weights=fitness_scores)[0]\n",
    "        parents.append(population[selected_index])\n",
    "    return parents\n",
    "\n",
    "def crossover(parent1, parent2):\n",
    "    crossover_point = random.randint(1, len(parent1) - 1)\n",
    "    child1 = parent1[:crossover_point] + parent2[crossover_point:]\n",
    "    child2 = parent2[:crossover_point] + parent1[crossover_point:]\n",
    "    return child1, child2\n",
    "\n",
    "def mutate(chromosome):\n",
    "    mutation_point = random.randint(0, len(chromosome) - 1)\n",
    "    chromosome[mutation_point] = 1 - chromosome[mutation_point]\n",
    "\n",
    "def apply_mutation(population):\n",
    "    for chromosome in population:\n",
    "        if random.random() < mutation_rate:\n",
    "            mutate(chromosome)\n",
    "\n",
    "def genetic_algorithm():\n",
    "    population = initialize_population()\n",
    "    for generation in range(generations):\n",
    "        parents = select_parents(population)\n",
    "        offspring = []\n",
    "        for i in range(0, len(parents), 2):\n",
    "            if i + 1 < len(parents):\n",
    "                child1, child2 = crossover(parents[i], parents[i + 1])\n",
    "                offspring.extend([child1, child2])\n",
    "        apply_mutation(offspring)\n",
    "        population = offspring\n",
    "    best_solution = max(population, key=calculate_fitness)\n",
    "    return best_solution, calculate_fitness(best_solution)\n",
    "    \n",
    "best_solution, best_fitness = genetic_algorithm()\n",
    "print(\"Best Solution (Selected items):\", best_solution)\n",
    "print(\"Best Fitness (Total value):\", best_fitness)\n"
   ]
  }
 ],
 "metadata": {
  "kernelspec": {
   "display_name": "Python 3 (ipykernel)",
   "language": "python",
   "name": "python3"
  },
  "language_info": {
   "codemirror_mode": {
    "name": "ipython",
    "version": 3
   },
   "file_extension": ".py",
   "mimetype": "text/x-python",
   "name": "python",
   "nbconvert_exporter": "python",
   "pygments_lexer": "ipython3",
   "version": "3.12.4"
  }
 },
 "nbformat": 4,
 "nbformat_minor": 5
}
