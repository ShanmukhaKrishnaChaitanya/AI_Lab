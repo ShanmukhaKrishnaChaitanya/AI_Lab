{
 "cells": [
  {
   "cell_type": "code",
   "execution_count": 10,
   "id": "7749ab57-32c7-4c4e-9736-8762f1f80917",
   "metadata": {},
   "outputs": [
    {
     "name": "stdout",
     "output_type": "stream",
     "text": [
      "Optimal Path: A -> B2 -> C4\n",
      "Optimal Value: 5\n"
     ]
    }
   ],
   "source": [
    "tree = {\n",
    "    'A': ['B1', 'B2', 'B3'],\n",
    "    'B1': ['C1', 'C2', 'C3'],\n",
    "    'B2': ['C4', 'C5', 'C6'],\n",
    "    'B3': ['C7', 'C8', 'C9']\n",
    "}\n",
    "values = {\n",
    "    'C1': 12, 'C2': 10, 'C3': 3,\n",
    "    'C4': 5, 'C5': 8, 'C6': 10,\n",
    "    'C7': 11, 'C8': 2, 'C9': 12\n",
    "}\n",
    "\n",
    "def minmax(node, depth, is_maximizing, values, path):\n",
    "    if depth == 2:\n",
    "        return values[node], [node]\n",
    "    if is_maximizing:\n",
    "        best_value = float('-inf')\n",
    "        best_path = []\n",
    "        for child in tree[node]:\n",
    "            value, child_path = minmax(child, depth + 1, False, values, path)\n",
    "            if value > best_value:\n",
    "                best_value = value\n",
    "                best_path = [node] + child_path\n",
    "        return best_value, best_path\n",
    "    else:\n",
    "        best_value = float('inf')\n",
    "        best_path = []\n",
    "        for child in tree[node]:\n",
    "            value, child_path = minmax(child, depth + 1, True, values, path)\n",
    "            if value < best_value:\n",
    "                best_value = value\n",
    "                best_path = [node] + child_path\n",
    "        return best_value, best_path\n",
    "\n",
    "optimal_value, optimal_path = minmax('A', 0, True, values, [])\n",
    "print(\"Optimal Path:\", ' -> '.join(optimal_path))\n",
    "print(\"Optimal Value:\", optimal_value)\n"
   ]
  },
  {
   "cell_type": "code",
   "execution_count": 14,
   "id": "39bd1288-dcfa-4bc3-808d-bfced7720e27",
   "metadata": {},
   "outputs": [
    {
     "name": "stdout",
     "output_type": "stream",
     "text": [
      "Optimal Path: A -> B1 -> C1 -> D2 -> E4\n",
      "Optimal Value: 3\n"
     ]
    }
   ],
   "source": [
    "tree = {\n",
    "    'A': ['B1', 'B2'],\n",
    "    'B1': ['C1', 'C2'],\n",
    "    'B2': ['C3', 'C4'],\n",
    "    'C1': ['D1', 'D2'],\n",
    "    'C2': ['D3', 'D4'],\n",
    "    'C3': ['D5', 'D6'],\n",
    "    'C4': ['D7', 'D8'],\n",
    "    'D1': ['E1', 'E2'],\n",
    "    'D2': ['E3', 'E4'],\n",
    "    'D3': ['E5', 'E6'],\n",
    "    'D4': ['E7', 'E8'],\n",
    "    'D5': ['E9', 'E10'],\n",
    "    'D6': ['E11', 'E12'],\n",
    "    'D7': ['E13', 'E14'],\n",
    "    'D8': ['E15', 'E16'],\n",
    "}\n",
    "values = {\n",
    "    'E1': 5, 'E2': -1, 'E3': 4,\n",
    "    'E4': 3, 'E5': -2, 'E6': -5,\n",
    "    'E7': 9, 'E8': 9, 'E9': 6,\n",
    "    'E10': 1, 'E11': -4, 'E12': 2,\n",
    "    'E13': 4, 'E14': 7, 'E15': 3, 'E16': -3\n",
    "}\n",
    "\n",
    "def minmax(node, depth, is_maximizing, values, path):\n",
    "    if depth == 4:\n",
    "        return values[node], [node]\n",
    "    if is_maximizing:\n",
    "        best_value = float('-inf')\n",
    "        best_path = []\n",
    "        for child in tree[node]:\n",
    "            value, child_path = minmax(child, depth + 1, False, values, path)\n",
    "            if value > best_value:\n",
    "                best_value = value\n",
    "                best_path = [node] + child_path\n",
    "        return best_value, best_path\n",
    "    else:\n",
    "        best_value = float('inf')\n",
    "        best_path = []\n",
    "        for child in tree[node]:\n",
    "            value, child_path = minmax(child, depth + 1, True, values, path)\n",
    "            if value < best_value:\n",
    "                best_value = value\n",
    "                best_path = [node] + child_path\n",
    "        return best_value, best_path\n",
    "\n",
    "optimal_value, optimal_path = minmax('A', 0, True, values, [])\n",
    "print(\"Optimal Path:\", ' -> '.join(optimal_path))\n",
    "print(\"Optimal Value:\", optimal_value)\n"
   ]
  }
 ],
 "metadata": {
  "kernelspec": {
   "display_name": "Python 3 (ipykernel)",
   "language": "python",
   "name": "python3"
  },
  "language_info": {
   "codemirror_mode": {
    "name": "ipython",
    "version": 3
   },
   "file_extension": ".py",
   "mimetype": "text/x-python",
   "name": "python",
   "nbconvert_exporter": "python",
   "pygments_lexer": "ipython3",
   "version": "3.12.5"
  }
 },
 "nbformat": 4,
 "nbformat_minor": 5
}
