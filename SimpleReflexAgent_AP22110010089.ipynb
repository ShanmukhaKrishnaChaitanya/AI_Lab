{
 "cells": [
  {
   "cell_type": "code",
   "execution_count": null,
   "id": "d1346cc6-34d0-4e93-a34b-e176c1a930eb",
   "metadata": {},
   "outputs": [],
   "source": [
    "\"\"\"\n",
    "5. Fan Speed Controller: Create a Simple Reflex Agent that adjusts a fan's speed based on the\n",
    "current room temperature. If the temperature exceeds 28°C, the fan should run at high speed;\n",
    "otherwise, it should run at low speed.\n",
    "\"\"\""
   ]
  },
  {
   "cell_type": "code",
   "execution_count": 135,
   "id": "d8b5a3ea-cf80-4246-b990-98bd2fad9fb7",
   "metadata": {},
   "outputs": [
    {
     "name": "stdout",
     "output_type": "stream",
     "text": [
      "\u001b[35mCurrent Temperature: 34.70887935907158\n",
      "\u001b[35mAgent decided to run the fan at High Speed\n",
      "\u001b[39m\n"
     ]
    }
   ],
   "source": [
    "import random\n",
    "from colorama import Fore, Back, Style\n",
    "class ReflexAgent:\n",
    "    def __init__(self, room_sensor):\n",
    "        self.room_sensor = room_sensor\n",
    "\n",
    "    def sense_temperature(self):\n",
    "        # Simulate reading the Room_Temperature sensor's value\n",
    "        return self.room_sensor.get_room_temperature()\n",
    "\n",
    "    def decide_action(self):\n",
    "        room_temperature = self.sense_temperature()\n",
    "\n",
    "        if room_temperature < 28:  # Room is Cool\n",
    "            return \"Low Speed\"\n",
    "        else:  # Room is Hot\n",
    "            return \"High Speed\"\n",
    "\n",
    "class RoomSensor:\n",
    "    def __init__(self, room_temperature):\n",
    "        self.room_temperature = room_temperature\n",
    "\n",
    "    def get_room_temperature(self):\n",
    "        return self.room_temperature\n",
    "\n",
    "# Simulate the environment\n",
    "random = random.random() * 100\n",
    "if(random > 50.0): random = random / 2\n",
    "room_sensor = RoomSensor(room_temperature = random)\n",
    "print(Fore.MAGENTA + 'Current Temperature:', room_sensor.room_temperature)\n",
    "reflex_agent = ReflexAgent(room_sensor)\n",
    "\n",
    "# Run the agent\n",
    "action = reflex_agent.decide_action()\n",
    "print(Fore.MAGENTA + \"Agent decided to run the fan at\", action)\n",
    "print(Fore.RESET)"
   ]
  },
  {
   "cell_type": "code",
   "execution_count": 145,
   "id": "9212335d-53df-4ed2-9e82-cca0d1af9ee9",
   "metadata": {},
   "outputs": [
    {
     "name": "stdout",
     "output_type": "stream",
     "text": [
      "Current Temperature: 12.132200553623207\n",
      "Agent decided to run the fan at Low Speed\n"
     ]
    }
   ],
   "source": [
    "import random\n",
    "random = random.random() * 100\n",
    "if(random > 50.0): random = random / 2\n",
    "print(f'Current Temperature: {random}')\n",
    "if(random > 28): print(\"Agent decided to run the fan at High Speed\")\n",
    "else: print(\"Agent decided to run the fan at Low Speed\")"
   ]
  },
  {
   "cell_type": "code",
   "execution_count": null,
   "id": "b9955d72-9f3e-45e2-a327-4ed34d953253",
   "metadata": {},
   "outputs": [],
   "source": [
    "\"\"\"\n",
    "11. Plant Watering System: Create a Simple Reflex Agent that manages a plant watering system. If\n",
    "the soil moisture level drops below 40%, the agent should water the plant; otherwise, it should\n",
    "skip watering.\n",
    "\"\"\""
   ]
  },
  {
   "cell_type": "code",
   "execution_count": 155,
   "id": "778aa8b4-7bb1-4bf5-804a-43bec8e0b35b",
   "metadata": {},
   "outputs": [
    {
     "name": "stdout",
     "output_type": "stream",
     "text": [
      "Current soil moisure level: 34.83146283319958 %\n",
      "Agent decided to water the plant\n"
     ]
    }
   ],
   "source": [
    "import random\n",
    "random = random.random() * 100\n",
    "print(f'Current soil moisure level: {random} %')\n",
    "if(random < 40): print(\"Agent decided to water the plant\")\n",
    "else: print(\"Agent skipped to water the plant\")"
   ]
  }
 ],
 "metadata": {
  "kernelspec": {
   "display_name": "Python 3 (ipykernel)",
   "language": "python",
   "name": "python3"
  },
  "language_info": {
   "codemirror_mode": {
    "name": "ipython",
    "version": 3
   },
   "file_extension": ".py",
   "mimetype": "text/x-python",
   "name": "python",
   "nbconvert_exporter": "python",
   "pygments_lexer": "ipython3",
   "version": "3.12.4"
  }
 },
 "nbformat": 4,
 "nbformat_minor": 5
}
