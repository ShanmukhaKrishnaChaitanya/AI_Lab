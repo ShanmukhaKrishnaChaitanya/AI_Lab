{
 "cells": [
  {
   "cell_type": "code",
   "execution_count": null,
   "id": "c029cc16-25e5-4832-b6f0-87138c464e83",
   "metadata": {},
   "outputs": [],
   "source": [
    "\"\"\"\n",
    "Question 5: Energy Consumption Optimization\n",
    "Design a utility-based agent that manages energy consumption in a smart home. The agent takes into\n",
    "account electricity prices, user comfort preferences, and the current state of appliances. It calculates a\n",
    "utility score for adjusting appliance settings and makes recommendations to minimize energy costs.\n",
    "\"\"\""
   ]
  },
  {
   "cell_type": "code",
   "execution_count": 27,
   "id": "d50284ef-7b72-4568-831e-4a33553d503d",
   "metadata": {},
   "outputs": [
    {
     "name": "stdout",
     "output_type": "stream",
     "text": [
      "Recommended Appliance to Use: Air Conditioner\n"
     ]
    }
   ],
   "source": [
    "class EnergyAgent:\n",
    "    def __init__(self, prices, preferences, appliances):\n",
    "        self.prices = prices\n",
    "        self.preferences = preferences\n",
    "        self.appliances = appliances\n",
    "\n",
    "    def utility(self, appliance, current_time):\n",
    "        price_factor = self.prices.get(current_time, 1)\n",
    "        utility = (\n",
    "            (self.preferences[\"energy_saving\"] / price_factor) - (self.preferences[\"comfort\"] * appliance[\"power\"] * appliance[\"priority\"])\n",
    "        )\n",
    "        return utility\n",
    "\n",
    "    def optimize_energy_usage(self, current_time):\n",
    "        best_appliance = None\n",
    "        max_utility = float(\"-inf\")\n",
    "        for appliance in self.appliances:\n",
    "            utility = self.utility(appliance, current_time)\n",
    "            if utility > max_utility:\n",
    "                max_utility = utility\n",
    "                best_appliance = appliance\n",
    "        return best_appliance\n",
    "\n",
    "electricity_prices = {\"morning\": 0.8, \"afternoon\": 1.2, \"evening\": 1.5, \"night\": 0.5}\n",
    "user_preferences = {\"energy_saving\": 0.7, \"comfort\": 0.3}\n",
    "appliances = [\n",
    "    {\"name\": \"Air Conditioner\", \"power\": 2.0, \"priority\": 1},\n",
    "    {\"name\": \"Heater\", \"power\": 2.5, \"priority\": 3},\n",
    "    {\"name\": \"Washing Machine\", \"power\": 1.5, \"priority\": 2}\n",
    "]\n",
    "\n",
    "energy_agent = EnergyAgent(electricity_prices, user_preferences, appliances)\n",
    "time_slot = \"afternoon\"\n",
    "recommended_appliance = energy_agent.optimize_energy_usage(time_slot)\n",
    "\n",
    "print(\"Recommended Appliance to Use:\", recommended_appliance[\"name\"])"
   ]
  }
 ],
 "metadata": {
  "kernelspec": {
   "display_name": "Python 3 (ipykernel)",
   "language": "python",
   "name": "python3"
  },
  "language_info": {
   "codemirror_mode": {
    "name": "ipython",
    "version": 3
   },
   "file_extension": ".py",
   "mimetype": "text/x-python",
   "name": "python",
   "nbconvert_exporter": "python",
   "pygments_lexer": "ipython3",
   "version": "3.12.4"
  }
 },
 "nbformat": 4,
 "nbformat_minor": 5
}
