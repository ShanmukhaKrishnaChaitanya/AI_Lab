{
 "cells": [
  {
   "cell_type": "code",
   "execution_count": null,
   "id": "04ec76c5-5ce5-4d6e-8af3-ec59d6500cf0",
   "metadata": {},
   "outputs": [],
   "source": [
    "\"\"\"\n",
    "3. Traffic Management Question: Create a goal-based agent for traffic management in a city.\n",
    "The agent's goal is to minimize traffic congestion by controlling traffic lights at intersections.\n",
    "The agent can change traffic light signals based on the current traffic conditions.\n"
   ]
  },
  {
   "cell_type": "code",
   "execution_count": 27,
   "id": "7dc3f7ba-2cc4-4f41-bcbb-79e4bc4c1e9e",
   "metadata": {},
   "outputs": [
    {
     "name": "stdout",
     "output_type": "stream",
     "text": [
      "\n",
      "What would you like to do?\n",
      "1. Display traffic status\n",
      "2. Adjust traffic lights\n",
      "3. Update traffic count\n",
      "4. Exit\n"
     ]
    },
    {
     "name": "stdin",
     "output_type": "stream",
     "text": [
      "Enter your choice:  1\n"
     ]
    },
    {
     "name": "stdout",
     "output_type": "stream",
     "text": [
      "Current Traffic Status:\n",
      "Intersection A: Traffic = 3, Light = Red\n",
      "Intersection B: Traffic = 5, Light = Green\n",
      "Intersection C: Traffic = 2, Light = Red\n",
      "Intersection D: Traffic = 1, Light = Red\n",
      "\n",
      "What would you like to do?\n",
      "1. Display traffic status\n",
      "2. Adjust traffic lights\n",
      "3. Update traffic count\n",
      "4. Exit\n"
     ]
    },
    {
     "name": "stdin",
     "output_type": "stream",
     "text": [
      "Enter your choice:  3\n",
      "Enter intersection (A, B, C, D):  A\n",
      "Enter new traffic count:  8\n"
     ]
    },
    {
     "name": "stdout",
     "output_type": "stream",
     "text": [
      "Traffic at intersection A updated to 8.\n",
      "\n",
      "What would you like to do?\n",
      "1. Display traffic status\n",
      "2. Adjust traffic lights\n",
      "3. Update traffic count\n",
      "4. Exit\n"
     ]
    },
    {
     "name": "stdin",
     "output_type": "stream",
     "text": [
      "Enter your choice:  2\n"
     ]
    },
    {
     "name": "stdout",
     "output_type": "stream",
     "text": [
      "Traffic lights adjusted based on congestion.\n",
      "\n",
      "What would you like to do?\n",
      "1. Display traffic status\n",
      "2. Adjust traffic lights\n",
      "3. Update traffic count\n",
      "4. Exit\n"
     ]
    },
    {
     "name": "stdin",
     "output_type": "stream",
     "text": [
      "Enter your choice:  1\n"
     ]
    },
    {
     "name": "stdout",
     "output_type": "stream",
     "text": [
      "Current Traffic Status:\n",
      "Intersection A: Traffic = 8, Light = Green\n",
      "Intersection B: Traffic = 5, Light = Red\n",
      "Intersection C: Traffic = 2, Light = Red\n",
      "Intersection D: Traffic = 1, Light = Red\n",
      "\n",
      "What would you like to do?\n",
      "1. Display traffic status\n",
      "2. Adjust traffic lights\n",
      "3. Update traffic count\n",
      "4. Exit\n"
     ]
    },
    {
     "name": "stdin",
     "output_type": "stream",
     "text": [
      "Enter your choice:  3\n",
      "Enter intersection (A, B, C, D):  A\n",
      "Enter new traffic count:  0\n"
     ]
    },
    {
     "name": "stdout",
     "output_type": "stream",
     "text": [
      "Traffic at intersection A updated to 0.\n",
      "\n",
      "What would you like to do?\n",
      "1. Display traffic status\n",
      "2. Adjust traffic lights\n",
      "3. Update traffic count\n",
      "4. Exit\n"
     ]
    },
    {
     "name": "stdin",
     "output_type": "stream",
     "text": [
      "Enter your choice:  1\n"
     ]
    },
    {
     "name": "stdout",
     "output_type": "stream",
     "text": [
      "Current Traffic Status:\n",
      "Intersection A: Traffic = 0, Light = Green\n",
      "Intersection B: Traffic = 5, Light = Red\n",
      "Intersection C: Traffic = 2, Light = Red\n",
      "Intersection D: Traffic = 1, Light = Red\n",
      "\n",
      "What would you like to do?\n",
      "1. Display traffic status\n",
      "2. Adjust traffic lights\n",
      "3. Update traffic count\n",
      "4. Exit\n"
     ]
    },
    {
     "name": "stdin",
     "output_type": "stream",
     "text": [
      "Enter your choice:  2\n"
     ]
    },
    {
     "name": "stdout",
     "output_type": "stream",
     "text": [
      "Traffic lights adjusted based on congestion.\n",
      "\n",
      "What would you like to do?\n",
      "1. Display traffic status\n",
      "2. Adjust traffic lights\n",
      "3. Update traffic count\n",
      "4. Exit\n"
     ]
    },
    {
     "name": "stdin",
     "output_type": "stream",
     "text": [
      "Enter your choice:  1\n"
     ]
    },
    {
     "name": "stdout",
     "output_type": "stream",
     "text": [
      "Current Traffic Status:\n",
      "Intersection A: Traffic = 0, Light = Red\n",
      "Intersection B: Traffic = 5, Light = Green\n",
      "Intersection C: Traffic = 2, Light = Red\n",
      "Intersection D: Traffic = 1, Light = Red\n",
      "\n",
      "What would you like to do?\n",
      "1. Display traffic status\n",
      "2. Adjust traffic lights\n",
      "3. Update traffic count\n",
      "4. Exit\n"
     ]
    },
    {
     "name": "stdin",
     "output_type": "stream",
     "text": [
      "Enter your choice:  4\n"
     ]
    },
    {
     "name": "stdout",
     "output_type": "stream",
     "text": [
      "Exiting traffic management system.\n"
     ]
    }
   ],
   "source": [
    "class TrafficAgent:\n",
    "    def __init__(self):\n",
    "        self.intersections = {\n",
    "            'A': {'traffic': 3, 'light': 'Red'},\n",
    "            'B': {'traffic': 5, 'light': 'Green'},\n",
    "            'C': {'traffic': 2, 'light': 'Red'},\n",
    "            'D': {'traffic': 1, 'light': 'Red'}\n",
    "        }\n",
    "    \n",
    "    def display(self):\n",
    "        print(\"Current Traffic Status:\")\n",
    "        for intersection, data in self.intersections.items():\n",
    "            print(f\"Intersection {intersection}: Traffic = {data['traffic']}, Light = {data['light']}\")\n",
    "       \n",
    "    def adjust(self):\n",
    "        max_traffic = None\n",
    "        max_value = -1\n",
    "        for intersection, data in self.intersections.items():\n",
    "            if data['traffic'] > max_value:\n",
    "                max_value = data['traffic']\n",
    "                max_traffic = intersection\n",
    "        for intersection in self.intersections:\n",
    "            if intersection == max_traffic:\n",
    "                self.intersections[intersection]['light'] = 'Green'\n",
    "            else:\n",
    "                self.intersections[intersection]['light'] = 'Red'\n",
    "        print(\"Traffic lights adjusted based on congestion.\")\n",
    "    \n",
    "    def update(self, intersection, count):\n",
    "        if intersection in self.intersections:\n",
    "            self.intersections[intersection]['traffic'] = count\n",
    "            print(f\"Traffic at intersection {intersection} updated to {count}.\")\n",
    "        else:\n",
    "            print(\"Invalid intersection.\")\n",
    "            \n",
    "agent = TrafficAgent()\n",
    "\n",
    "while True:\n",
    "    print(\"\\nWhat would you like to do?\")\n",
    "    print(\"1. Display traffic status\")\n",
    "    print(\"2. Adjust traffic lights\")\n",
    "    print(\"3. Update traffic count\")\n",
    "    print(\"4. Exit\")\n",
    "    \n",
    "    choice = input(\"Enter your choice: \")\n",
    "    \n",
    "    if choice == '1':\n",
    "        agent.display()\n",
    "    elif choice == '2':\n",
    "        agent.adjust()\n",
    "    elif choice == '3':\n",
    "        intersection = input(\"Enter intersection (A, B, C, D): \")\n",
    "        traffic_count = int(input(\"Enter new traffic count: \"))\n",
    "        agent.update(intersection, traffic_count)\n",
    "    elif choice == '4':\n",
    "        print(\"Exiting traffic management system.\")\n",
    "        break\n",
    "    else:\n",
    "        print(\"Invalid choice. Please select a valid option.\")\n"
   ]
  }
 ],
 "metadata": {
  "kernelspec": {
   "display_name": "Python 3 (ipykernel)",
   "language": "python",
   "name": "python3"
  },
  "language_info": {
   "codemirror_mode": {
    "name": "ipython",
    "version": 3
   },
   "file_extension": ".py",
   "mimetype": "text/x-python",
   "name": "python",
   "nbconvert_exporter": "python",
   "pygments_lexer": "ipython3",
   "version": "3.12.4"
  }
 },
 "nbformat": 4,
 "nbformat_minor": 5
}
