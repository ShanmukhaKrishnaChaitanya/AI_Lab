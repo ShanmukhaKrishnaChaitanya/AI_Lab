{
 "cells": [
  {
   "cell_type": "code",
   "execution_count": null,
   "id": "e2abaf52-3c9a-4497-9d71-cabec8438b90",
   "metadata": {},
   "outputs": [],
   "source": [
    "\"\"\"\n",
    "7. Energy Saver: Design a Reflex Agent with State to control a smart thermostat. If the current\n",
    "room temperature is significantly different from the desired temperature, the thermostat\n",
    "should adjust the HVAC system; otherwise, it remains unchanged. The state should store the\n",
    "previous state of the room temperature.\n",
    "\"\"\""
   ]
  },
  {
   "cell_type": "code",
   "execution_count": 83,
   "id": "8ff40396-ccef-41f1-a90d-89646f217d15",
   "metadata": {},
   "outputs": [
    {
     "name": "stdout",
     "output_type": "stream",
     "text": [
      "\u001b[35mCurrent temperature: 27.10°C, Previous temperature: None°C, Action: Initializing...\n",
      "\u001b[35mCurrent temperature: 37.60°C, Previous temperature: 27.098161726513005°C, Action: Adjust HVAC system\n",
      "\u001b[35mCurrent temperature: 38.97°C, Previous temperature: 37.601125601954834°C, Action: Maintain current state\n",
      "\u001b[35mCurrent temperature: 20.97°C, Previous temperature: 38.97068375774253°C, Action: Adjust HVAC system\n",
      "\u001b[35mCurrent temperature: 19.85°C, Previous temperature: 20.966480937447407°C, Action: Maintain current state\n",
      "\u001b[35mCurrent temperature: 31.71°C, Previous temperature: 19.848200284336492°C, Action: Adjust HVAC system\n",
      "\u001b[35mCurrent temperature: 24.24°C, Previous temperature: 31.708687741207708°C, Action: Adjust HVAC system\n",
      "\u001b[35mCurrent temperature: 29.18°C, Previous temperature: 24.240343367580653°C, Action: Adjust HVAC system\n",
      "\u001b[0m\n"
     ]
    }
   ],
   "source": [
    "from colorama import Fore, Style\n",
    "import random\n",
    "\n",
    "class SmartThermostatAgent:\n",
    "    def __init__(self, tolerance):\n",
    "        self.tolerance = tolerance\n",
    "        self.current_temp = None\n",
    "        self.previous_temp = None\n",
    "        self.hvac_on = False\n",
    "\n",
    "    def update_temperature(self, new_temp):\n",
    "        self.previous_temp = self.current_temp\n",
    "        self.current_temp = new_temp\n",
    "\n",
    "    def decide_action(self):\n",
    "        if self.current_temp is None:\n",
    "            return \"No temperature data available\"\n",
    "        if self.previous_temp is None:\n",
    "            return \"Initializing...\"\n",
    "        if abs(self.current_temp - self.previous_temp) > self.tolerance:\n",
    "            self.hvac_on = True\n",
    "            return \"Adjust HVAC system\"\n",
    "        else:\n",
    "            return \"Maintain current state\"\n",
    "\n",
    "# Simulate the agent's behavior\n",
    "def main():\n",
    "    agent = SmartThermostatAgent(tolerance=3)\n",
    "    \n",
    "    # Simulate temperature changes\n",
    "    temperature_readings = []\n",
    "    for _ in range(20):\n",
    "        temp = random.random() * 100\n",
    "        if temp < 48.0:  \n",
    "            temperature_readings.append(temp)\n",
    "\n",
    "    for temp in temperature_readings:\n",
    "        agent.update_temperature(temp)\n",
    "        action = agent.decide_action()\n",
    "        print(Fore.MAGENTA + f\"Current temperature: {temp:.2f}°C, Previous temperature: {agent.previous_temp}°C, Action: {action}\")\n",
    "    print(Style.RESET_ALL)\n",
    "\n",
    "if __name__ == \"__main__\":\n",
    "    main()\n"
   ]
  }
 ],
 "metadata": {
  "kernelspec": {
   "display_name": "Python 3 (ipykernel)",
   "language": "python",
   "name": "python3"
  },
  "language_info": {
   "codemirror_mode": {
    "name": "ipython",
    "version": 3
   },
   "file_extension": ".py",
   "mimetype": "text/x-python",
   "name": "python",
   "nbconvert_exporter": "python",
   "pygments_lexer": "ipython3",
   "version": "3.12.4"
  }
 },
 "nbformat": 4,
 "nbformat_minor": 5
}
