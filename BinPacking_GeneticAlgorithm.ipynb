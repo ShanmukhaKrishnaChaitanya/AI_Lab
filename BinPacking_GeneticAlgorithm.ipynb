{
 "cells": [
  {
   "cell_type": "code",
   "execution_count": 23,
   "id": "1e53af31-e942-4b6f-9384-a05045946e24",
   "metadata": {},
   "outputs": [
    {
     "name": "stdout",
     "output_type": "stream",
     "text": [
      "Best Solution (Packing Arrangement):  [6, 3, 0, 0, 7, 6, 1, 1, 3, 1]\n",
      "Best Fitness (Number of Bins Used):  5\n"
     ]
    }
   ],
   "source": [
    "import random\n",
    "import numpy as np\n",
    "\n",
    "num_items = 10\n",
    "bin_capacity = 10\n",
    "item_sizes = [2, 4, 1, 9, 8, 7, 5, 3, 6, 0]\n",
    "population_size = 50\n",
    "mutation_rate = 0.1\n",
    "num_generations = 100\n",
    "\n",
    "def initialize_population():\n",
    "    return [random.choices(range(num_items), k=num_items) for _ in range(population_size)]\n",
    "\n",
    "def fitness(chromosome):\n",
    "    bins = {}\n",
    "    for item, bin_index in enumerate(chromosome):\n",
    "        if bin_index not in bins:\n",
    "            bins[bin_index] = 0\n",
    "        bins[bin_index] += item_sizes[item]\n",
    "    penalty = sum(max(0, bins[b] - bin_capacity) for b in bins)\n",
    "    return len(bins) + penalty\n",
    "\n",
    "def selection(population):\n",
    "    fitness_scores = [1 / (fitness(chromo) + 1e-6) for chromo in population]\n",
    "    total_fitness = sum(fitness_scores)\n",
    "    probabilities = [f / total_fitness for f in fitness_scores]\n",
    "    return population[np.random.choice(range(population_size), p=probabilities)]\n",
    "\n",
    "def crossover(parent1, parent2):\n",
    "    point1, point2 = sorted(random.sample(range(num_items), 2))\n",
    "    child1 = parent1[:point1] + parent2[point1:point2] + parent1[point2:]\n",
    "    child2 = parent2[:point1] + parent1[point1:point2] + parent2[point2:]\n",
    "    return child1, child2\n",
    "\n",
    "def mutate(chromosome):\n",
    "    if random.random() < mutation_rate:\n",
    "        idx = random.randint(0, num_items - 1)\n",
    "        chromosome[idx] = random.randint(0, num_items - 1)\n",
    "    return chromosome\n",
    "\n",
    "def genetic_algorithm():\n",
    "    population = initialize_population()\n",
    "    best_chromosome = min(population, key=fitness)\n",
    "    for _ in range(num_generations):\n",
    "        new_population = []\n",
    "        for _ in range(population_size // 2):\n",
    "            parent1, parent2 = selection(population), selection(population)\n",
    "            child1, child2 = crossover(parent1, parent2)\n",
    "            new_population.extend([mutate(child1), mutate(child2)])\n",
    "        population = new_population\n",
    "        best_chromosome = min(population, key=fitness)\n",
    "    return best_chromosome, fitness(best_chromosome)\n",
    "\n",
    "best_packing, best_fitness = genetic_algorithm()\n",
    "print(\"Best Solution (Packing Arrangement): \", best_packing)\n",
    "print(\"Best Fitness (Number of Bins Used): \", best_fitness)\n"
   ]
  }
 ],
 "metadata": {
  "kernelspec": {
   "display_name": "Python 3 (ipykernel)",
   "language": "python",
   "name": "python3"
  },
  "language_info": {
   "codemirror_mode": {
    "name": "ipython",
    "version": 3
   },
   "file_extension": ".py",
   "mimetype": "text/x-python",
   "name": "python",
   "nbconvert_exporter": "python",
   "pygments_lexer": "ipython3",
   "version": "3.12.4"
  }
 },
 "nbformat": 4,
 "nbformat_minor": 5
}
